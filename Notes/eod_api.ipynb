{
 "cells": [
  {
   "cell_type": "markdown",
   "metadata": {},
   "source": [
    "# End-Of-Day Historical Stock Market Data API\n",
    "\n",
    "API Calls per Day - 20\n",
    "\n",
    "API Calls per Minute - 20\n",
    "\n",
    "Additional API Calls - need to upgrade\n",
    "\n",
    "Data Range- past year\n",
    "\n",
    "API Documentation : https://eodhistoricaldata.com/financial-apis/\n",
    "\n",
    "Pricing : https://eodhistoricaldata.com/pricing\n",
    "\n",
    "EOD Historical Data API\n",
    "Pros\n",
    "Econimical\n",
    "Ease of use\n",
    "\n",
    "\n",
    "Cons\n",
    "Limited columns\n",
    "as name suggest its End of day data and not live\n",
    "can only get stock price data with free key\n",
    "\n",
    "\n",
    "# Using API\n",
    "\n",
    "https://eodhistoricaldata.com/api/eod/MCD.US?api_token=62ea5366791a74.78004924\n",
    "\n",
    "just using this url we can download basic data for given stock\n",
    "with Fields :: Date, Open, High, Low, Close, Adjusted_close, Volume\n"
   ]
  },
  {
   "cell_type": "code",
   "execution_count": 17,
   "metadata": {},
   "outputs": [
    {
     "name": "stdout",
     "output_type": "stream",
     "text": [
      "             Open   High     Low  Close  Adjusted_close   Volume\n",
      "Date                                                            \n",
      "2021-08-04  96.35  96.36  95.240  95.35         93.6054  1871120\n",
      "2021-08-05  95.59  95.59  94.165  95.42         93.6741  2403014\n",
      "2021-08-06  95.88  97.44  95.400  96.92         95.1467  3067688\n",
      "2021-08-09  97.17  97.59  96.710  97.12         95.3430  1522062\n",
      "2021-08-10  96.95  97.38  96.260  96.35         94.5871  2120450\n"
     ]
    }
   ],
   "source": [
    "import requests\n",
    "\n",
    "import pandas as pd\n",
    "\n",
    "from io import StringIO\n",
    "list = ['TRV.US','PGR.US']\n",
    "\n",
    "def get_eod_data(symbol=\"TRV.US\", api_token=\"62ea5366791a74.78004924\", session=None):\n",
    "\n",
    "    if session is None:\n",
    "\n",
    "        session = requests.Session()\n",
    "\n",
    "        url = 'https://eodhistoricaldata.com/api/eod/%s' % symbol\n",
    "\n",
    "        params = {\"api_token\": api_token}\n",
    "\n",
    "        r = session.get(url, params=params)\n",
    "\n",
    "    if r.status_code == requests.codes.ok:\n",
    "\n",
    "        df = pd.read_csv(StringIO(r.text), skipfooter=0, parse_dates=[0], index_col=0, engine='python')\n",
    "\n",
    "        return df\n",
    "\n",
    "    else:raise Exception(r.status_code, r.reason, url)\n",
    "\n",
    "df = get_eod_data(\"PGR.US\")\n",
    "\n",
    "#df.to_csv(\"stockdatatestfun.csv\",index=False,header=True)\n",
    "print(df.head(5))"
   ]
  },
  {
   "cell_type": "markdown",
   "metadata": {},
   "source": [
    "    Open     High       Low   Close  Adjusted_close  Volume\n",
    "Date                                                                 \n",
    "2021-08-03  149.08  150.460  147.5003  150.39        147.1413  890015\n",
    "2021-08-04  149.98  150.630  149.2600  149.52        146.2901  863496\n",
    "2021-08-05  150.38  151.545  149.4300  150.58        147.3272  716760\n",
    "2021-08-06  151.86  153.380  151.5300  152.82        149.5188  634145\n",
    "2021-08-09  152.89  153.910  152.0800  153.37        150.0569  680086"
   ]
  },
  {
   "cell_type": "markdown",
   "metadata": {},
   "source": [
    "Above code is sample example of how we can download info for particular stock with free API Key\n"
   ]
  },
  {
   "cell_type": "markdown",
   "metadata": {},
   "source": [
    "# Finnhub Stock API\n",
    "\n",
    "API looks finched product. Has its own python library called finnhub-python : https://github.com/Finnhub-Stock-API/finnhub-python\n",
    "\n",
    "Have sandbox facility to test all kinds of datasets such as\n",
    "\n",
    "- Trades - Last Price Updates\n",
    "- News (Premium) : Stream real-time news for US and Canadian stocks.\n",
    "- Company Profile : Get general information of a company. You can query by symbol,\n",
    "- Company Executive (Premium) : Get a list of company's executives and members of the Board.\n",
    "- Market News : Get latest market news.\n",
    "- Company News : List latest company news by symbol. This endpoint is only available for North American companies.\n",
    "- Major Press Releases (Premium) : Get latest major press releases of a company. This data can be used to highlight the most significant events comprised of mostly press releases sourced from the exchanges, BusinessWire, AccessWire, GlobeNewswire, Newsfile, and PRNewswire.\n",
    "- News Sentiment (Premium) : Get company's news sentiment and statistics. This endpoint is only available for US companies.\n",
    "- Basic Financials : Get company basic financials such as margin, P/E ratio, 52-week high/low etc.\n",
    "- Ownership Premium : Get a full list of shareholders of a company in descending order of the number of shares held. Data is sourced from 13F form, Schedule 13D and 13G for US market, UK Share Register for UK market, SEDI for Canadian market and equivalent filings for other international markets.\n",
    "- Insider Transactions : Company insider transactions data sourced from Form 3,4,5. This endpoint only covers US companies at the moment. Limit to 100 transactions per API call.\n",
    "- Financial Statements Premium : Get standardized balance sheet, income statement and cash flow for global companies going back 30+ years. Data is sourced from original filings most of which made available through SEC Filings and International Filings endpoints.\n",
    "- Financials As Reported : Get financials as reported. This data is available for bulk download on Kaggle SEC Financials database.\n",
    "- Revenue Breakdown Premium : Get revenue breakdown by product. This dataset is only available for US companies which disclose their revenue breakdown in the annual or quarterly reports.\n"
   ]
  },
  {
   "cell_type": "code",
   "execution_count": null,
   "metadata": {},
   "outputs": [],
   "source": []
  },
  {
   "cell_type": "code",
   "execution_count": null,
   "metadata": {},
   "outputs": [],
   "source": []
  }
 ],
 "metadata": {
  "kernelspec": {
   "display_name": "Python 3",
   "language": "python",
   "name": "python3"
  },
  "language_info": {
   "codemirror_mode": {
    "name": "ipython",
    "version": 3
   },
   "file_extension": ".py",
   "mimetype": "text/x-python",
   "name": "python",
   "nbconvert_exporter": "python",
   "pygments_lexer": "ipython3",
   "version": "3.8.5"
  }
 },
 "nbformat": 4,
 "nbformat_minor": 4
}
